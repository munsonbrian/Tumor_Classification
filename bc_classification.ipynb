{
 "cells": [
  {
   "cell_type": "code",
   "execution_count": 1,
   "metadata": {},
   "outputs": [],
   "source": [
    "import pandas as pd\n",
    "from sklearn import preprocessing\n",
    "from sklearn.model_selection import train_test_split\n",
    "# Import method from sklearn\n",
    "from sklearn.neighbors import KNeighborsClassifier\n",
    "from sklearn import metrics\n",
    "import numpy as np\n",
    "from matplotlib import pyplot as plt\n",
    "\n",
    "# importing all essential libraries \n"
   ]
  },
  {
   "cell_type": "code",
   "execution_count": 9,
   "metadata": {},
   "outputs": [
    {
     "name": "stdout",
     "output_type": "stream",
     "text": [
      "1. Title: Wisconsin Diagnostic Breast Cancer (WDBC)\n",
      "\n",
      "2. Source Information\n",
      "\n",
      "a) Creators: \n",
      "\n",
      "\tDr. William H. Wolberg, General Surgery Dept., University of\n",
      "\tWisconsin,  Clinical Sciences Center, Madison, WI 53792\n",
      "\twolberg@eagle.surgery.wisc.edu\n",
      "\n",
      "\tW. Nick Street, Computer Sciences Dept., University of\n",
      "\tWisconsin, 1210 West Dayton St., Madison, WI 53706\n",
      "\tstreet@cs.wisc.edu  608-262-6619\n",
      "\n",
      "\tOlvi L. Mangasarian, Computer Sciences Dept., University of\n",
      "\tWisconsin, 1210 West Dayton St., Madison, WI 53706\n",
      "\tolvi@cs.wisc.edu \n",
      "\n",
      "b) Donor: Nick Street\n",
      "\n",
      "c) Date: November 1995\n",
      "\n",
      "3. Past Usage:\n",
      "\n",
      "first usage:\n",
      "\n",
      "\tW.N. Street, W.H. Wolberg and O.L. Mangasarian \n",
      "\tNuclear feature extraction for breast tumor diagnosis.\n",
      "\tIS&T/SPIE 1993 International Symposium on Electronic Imaging: Science\n",
      "\tand Technology, volume 1905, pages 861-870, San Jose, CA, 1993.\n",
      "\n",
      "OR literature:\n",
      "\n",
      "\tO.L. Mangasarian, W.N. Street and W.H. Wolberg. \n",
      "\tBreast cancer diagnosis and prognosis via linear programming. \n",
      "\tOperations Research, 43(4), pages 570-577, July-August 1995.\n",
      "\n",
      "Medical literature:\n",
      "\n",
      "\tW.H. Wolberg, W.N. Street, and O.L. Mangasarian. \n",
      "\tMachine learning techniques to diagnose breast cancer from\n",
      "\tfine-needle aspirates.  \n",
      "\tCancer Letters 77 (1994) 163-171.\n",
      "\n",
      "\tW.H. Wolberg, W.N. Street, and O.L. Mangasarian. \n",
      "\tImage analysis and machine learning applied to breast cancer\n",
      "\tdiagnosis and prognosis.  \n",
      "\tAnalytical and Quantitative Cytology and Histology, Vol. 17\n",
      "\tNo. 2, pages 77-87, April 1995. \n",
      "\n",
      "\tW.H. Wolberg, W.N. Street, D.M. Heisey, and O.L. Mangasarian. \n",
      "\tComputerized breast cancer diagnosis and prognosis from fine\n",
      "\tneedle aspirates.  \n",
      "\tArchives of Surgery 1995;130:511-516.\n",
      "\n",
      "\tW.H. Wolberg, W.N. Street, D.M. Heisey, and O.L. Mangasarian. \n",
      "\tComputer-derived nuclear features distinguish malignant from\n",
      "\tbenign breast cytology.  \n",
      "\tHuman Pathology, 26:792--796, 1995.\n",
      "\n",
      "See also:\n",
      "\thttp://www.cs.wisc.edu/~olvi/uwmp/mpml.html\n",
      "\thttp://www.cs.wisc.edu/~olvi/uwmp/cancer.html\n",
      "\n",
      "Results:\n",
      "\n",
      "\t- predicting field 2, diagnosis: B = benign, M = malignant\n",
      "\t- sets are linearly separable using all 30 input features\n",
      "\t- best predictive accuracy obtained using one separating plane\n",
      "\t\tin the 3-D space of Worst Area, Worst Smoothness and\n",
      "\t\tMean Texture.  Estimated accuracy 97.5% using repeated\n",
      "\t\t10-fold crossvalidations.  Classifier has correctly\n",
      "\t\tdiagnosed 176 consecutive new patients as of November\n",
      "\t\t1995. \n",
      "\n",
      "4. Relevant information\n",
      "\n",
      "\tFeatures are computed from a digitized image of a fine needle\n",
      "\taspirate (FNA) of a breast mass.  They describe\n",
      "\tcharacteristics of the cell nuclei present in the image.\n",
      "\tA few of the images can be found at\n",
      "\thttp://www.cs.wisc.edu/~street/images/\n",
      "\n",
      "\tSeparating plane described above was obtained using\n",
      "\tMultisurface Method-Tree (MSM-T) [K. P. Bennett, \"Decision Tree\n",
      "\tConstruction Via Linear Programming.\" Proceedings of the 4th\n",
      "\tMidwest Artificial Intelligence and Cognitive Science Society,\n",
      "\tpp. 97-101, 1992], a classification method which uses linear\n",
      "\tprogramming to construct a decision tree.  Relevant features\n",
      "\twere selected using an exhaustive search in the space of 1-4\n",
      "\tfeatures and 1-3 separating planes.\n",
      "\n",
      "\tThe actual linear program used to obtain the separating plane\n",
      "\tin the 3-dimensional space is that described in:\n",
      "\t[K. P. Bennett and O. L. Mangasarian: \"Robust Linear\n",
      "\tProgramming Discrimination of Two Linearly Inseparable Sets\",\n",
      "\tOptimization Methods and Software 1, 1992, 23-34].\n",
      "\n",
      "\n",
      "\tThis database is also available through the UW CS ftp server:\n",
      "\n",
      "\tftp ftp.cs.wisc.edu\n",
      "\tcd math-prog/cpo-dataset/machine-learn/WDBC/\n",
      "\n",
      "5. Number of instances: 569 \n",
      "\n",
      "6. Number of attributes: 32 (ID, diagnosis, 30 real-valued input features)\n",
      "\n",
      "7. Attribute information\n",
      "\n",
      "1) ID number\n",
      "2) Diagnosis (M = malignant, B = benign)\n",
      "3-32)\n",
      "\n",
      "Ten real-valued features are computed for each cell nucleus:\n",
      "\n",
      "\ta) radius (mean of distances from center to points on the perimeter)\n",
      "\tb) texture (standard deviation of gray-scale values)\n",
      "\tc) perimeter\n",
      "\td) area\n",
      "\te) smoothness (local variation in radius lengths)\n",
      "\tf) compactness (perimeter^2 / area - 1.0)\n",
      "\tg) concavity (severity of concave portions of the contour)\n",
      "\th) concave points (number of concave portions of the contour)\n",
      "\ti) symmetry \n",
      "\tj) fractal dimension (\"coastline approximation\" - 1)\n",
      "\n",
      "Several of the papers listed above contain detailed descriptions of\n",
      "how these features are computed. \n",
      "\n",
      "The mean, standard error, and \"worst\" or largest (mean of the three\n",
      "largest values) of these features were computed for each image,\n",
      "resulting in 30 features.  For instance, field 3 is Mean Radius, field\n",
      "13 is Radius SE, field 23 is Worst Radius.\n",
      "\n",
      "All feature values are recoded with four significant digits.\n",
      "\n",
      "8. Missing attribute values: none\n",
      "\n",
      "9. Class distribution: 357 benign, 212 malignant\n"
     ]
    },
    {
     "data": {
      "text/plain": [
       "(569, 32)"
      ]
     },
     "execution_count": 9,
     "metadata": {},
     "output_type": "execute_result"
    }
   ],
   "source": [
    "# Reading the file for breastcancer data set \n",
    "print(open('wdbc.names', 'r').read())\n",
    "df = pd.read_csv('wdbc.data', names = ['ID', 'Diagnosis', 'Radius', 'Texture', 'Perimeter', 'Area', 'Smootheness', 'Compactness', 'Concavity', 'Concave Points', 'Symetry', 'Fractal Dimension', 'RadiusSE', 'TextureSE', 'PerimeterSE', 'AreaSE', 'SmoothenessSE', 'CompactnessSE', 'ConcavitySE', 'Concave PointsSE', 'SymetrySE', 'Fractal DimensionSE','RadiusW', 'TextureW', 'PerimeterW', 'AreaW', 'SmoothenessW', 'CompactnessW', 'ConcavityW', 'Concave PointsW', 'SymetryW', 'Fractal DimensionW'])\n",
    "df.shape"
   ]
  },
  {
   "cell_type": "code",
   "execution_count": 10,
   "metadata": {},
   "outputs": [],
   "source": [
    "#Binary Encoding of Diagnosis labels\n",
    "    #relate the use of Euclidean distance to determine dissimilarity\n",
    "df['Diagnosis'].replace(['M','B'],[0,1],inplace=True)\n",
    "#Exclusion of extraneous data\n",
    "    #Reason...\n",
    "df = df.drop(['ID'],axis = 1)\n",
    "df = df.drop(df.iloc[:,11:31], axis = 1)"
   ]
  },
  {
   "cell_type": "code",
   "execution_count": 11,
   "metadata": {},
   "outputs": [],
   "source": [
    "#Establishing X and y data to train and evaluate model.\n",
    "#X data is a copy of process raw data. y is a matrix containing diagnosis\n",
    "X=df\n",
    "y=df['Diagnosis']\n",
    "\n",
    "#Chose not to normalize data due to suspicioussly high accuracy\n",
    "    #X = preprocessing.StandardScaler().fit(X).transform(X.astype(float))\n",
    "\n",
    "#Creation of train and test sets utilizing train_test_split.\n",
    "    #Realte reasoning to overfitting \n",
    "X_train, X_test, y_train, y_test = train_test_split( X, y, test_size=0.2, random_state=4)\n",
    "\n"
   ]
  },
  {
   "cell_type": "code",
   "execution_count": 12,
   "metadata": {},
   "outputs": [
    {
     "name": "stdout",
     "output_type": "stream",
     "text": [
      "[1 1 0 0 0]\n"
     ]
    }
   ],
   "source": [
    "#k is the number of neighboring data points utilized for prediction\n",
    "k = 4\n",
    "#KNeigh is a method of the Sci-Kit Learn library that is fit to the training data\n",
    "model = KNeighborsClassifier(n_neighbors=k).fit(X_train,y_train)\n",
    "\n",
    "#The trained model is used to predict the diagnosis from the test data.\n",
    "#the resulting values are the predictions that will be compared to the test data for evaluation.\n",
    "y_hat = model.predict(X_test)\n",
    "\n",
    "print(y_hat[0:5])"
   ]
  },
  {
   "cell_type": "code",
   "execution_count": 13,
   "metadata": {},
   "outputs": [
    {
     "name": "stdout",
     "output_type": "stream",
     "text": [
      "Train set Accuracy:  0.9362637362637363\n",
      "Test set Accuracy:  0.8157894736842105\n"
     ]
    }
   ],
   "source": [
    "#accuracty metrics\n",
    "    #accuracty determined by the fraction of correct predictions\n",
    "print(\"Train set Accuracy: \", metrics.accuracy_score(y_train, model.predict(X_train)))\n",
    "print(\"Test set Accuracy: \", metrics.accuracy_score(y_test, y_hat))"
   ]
  },
  {
   "cell_type": "code",
   "execution_count": 17,
   "metadata": {},
   "outputs": [
    {
     "data": {
      "text/plain": [
       "array([0.84210526, 0.80701754, 0.8245614 , 0.81578947, 0.86842105,\n",
       "       0.84210526, 0.86842105, 0.83333333, 0.84210526])"
      ]
     },
     "execution_count": 17,
     "metadata": {},
     "output_type": "execute_result"
    }
   ],
   "source": [
    "#determination of best k value by evaluation of statistics on the accuracty of model\n",
    "k_max = 10\n",
    "#creation of empty arrays to store mean accuracy and standard deviation values\n",
    "acc = np.zeros((k_max-1))\n",
    "std_acc = np.zeros((k_max-1))\n",
    "\n",
    "for n in range(1,k_max):\n",
    "    _model = KNeighborsClassifier(n_neighbors = n).fit(X_train,y_train)\n",
    "    yhat=_model.predict(X_test)\n",
    "    #calculation and storage of accuracty (method stated above) and standard deviation\n",
    "    acc[n-1] = metrics.accuracy_score(y_test, yhat)\n",
    "    std_acc[n-1]=np.std(yhat==y_test)/np.sqrt(yhat.shape[0])\n",
    "\n",
    "acc\n"
   ]
  },
  {
   "cell_type": "code",
   "execution_count": 18,
   "metadata": {},
   "outputs": [
    {
     "data": {
      "image/png": "[encoded data removed]",
      "text/plain": [
       "<Figure size 432x288 with 1 Axes>"
      ]
     },
     "metadata": {
      "needs_background": "light"
     },
     "output_type": "display_data"
    }
   ],
   "source": [
    "plt.plot(range(1,k_max),acc,'g')\n",
    "plt.fill_between(range(1,k_max),acc - 1 * std_acc,acc + 1 * std_acc, alpha=0.10)\n",
    "plt.fill_between(range(1,k_max),acc - 3 * std_acc,acc + 3 * std_acc, alpha=0.10,color=\"green\")\n",
    "plt.legend(('Accuracy ', '+/- 1xstd','+/- 3xstd'))\n",
    "plt.ylabel('Accuracy ')\n",
    "plt.xlabel('Number of Neighbors (K)')\n",
    "plt.tight_layout()\n",
    "plt.show()"
   ]
  }
 ],
 "metadata": {
  "interpreter": {
   "hash": "4bc3b612a3a37db216b6772f3ba3ca22c42be3c043e97ef3249f313ce5620cce"
  },
  "kernelspec": {
   "display_name": "Python 3.10.2 ('project1_env': venv)",
   "language": "python",
   "name": "python3"
  },
  "language_info": {
   "codemirror_mode": {
    "name": "ipython",
    "version": 3
   },
   "file_extension": ".py",
   "mimetype": "text/x-python",
   "name": "python",
   "nbconvert_exporter": "python",
   "pygments_lexer": "ipython3",
   "version": "3.10.2"
  },
  "orig_nbformat": 4
 },
 "nbformat": 4,
 "nbformat_minor": 2
}
